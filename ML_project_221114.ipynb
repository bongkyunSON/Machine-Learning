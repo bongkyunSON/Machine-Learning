{
  "cells": [
    {
      "cell_type": "markdown",
      "metadata": {
        "id": "view-in-github",
        "colab_type": "text"
      },
      "source": [
        "<a href=\"https://colab.research.google.com/github/bongkyunSON/Machine-Learning/blob/main/ML_project_221114.ipynb\" target=\"_parent\"><img src=\"https://colab.research.google.com/assets/colab-badge.svg\" alt=\"Open In Colab\"/></a>"
      ]
    },
    {
      "cell_type": "markdown",
      "id": "8f3119aa",
      "metadata": {
        "id": "8f3119aa"
      },
      "source": [
        "## Machine Learning Project\n",
        "\n",
        " - 데이콘 : 건설기계오일상태분류\n",
        " - https://dacon.io/competitions/official/236013/overview/description"
      ]
    },
    {
      "cell_type": "markdown",
      "id": "9f7610ea",
      "metadata": {
        "id": "9f7610ea"
      },
      "source": [
        "\n",
        "1. **필요한 라이브러리와 데이터를 불러옵니다.**\n",
        "\n",
        "\n",
        "2. **EDA를 수행합니다.** 이 때 EDA의 목적은 풀어야하는 문제를 위해서 수행됩니다.\n",
        "\n",
        "\n",
        "3. **전처리를 수행합니다.** 이 때 중요한건 **feature engineering**을 어떻게 하느냐 입니다.\n",
        "\n",
        "\n",
        "4. **데이터 분할을 합니다.** 이 때 train data와 test data 간의 분포 차이가 없는지 확인합니다.\n",
        "\n",
        "\n",
        "5. **학습을 진행합니다.** 어떤 모델을 사용하여 학습할지 정합니다. 성능이 잘 나오는 GBM을 추천합니다.\n",
        "\n",
        "\n",
        "6. **hyper-parameter tuning을 수행합니다.** 원하는 목표 성능이 나올 때 까지 진행합니다. 검증 단계를 통해 지속적으로 **overfitting이 되지 않게 주의**하세요.\n",
        "\n",
        "\n",
        "7. **최종 테스트를 진행합니다.** 데이터 분석 대회 포맷에 맞는 submission 파일을 만들어서 성능을 확인해보세요."
      ]
    },
    {
      "cell_type": "markdown",
      "id": "bd2f7530",
      "metadata": {
        "id": "bd2f7530"
      },
      "source": [
        "## 1. 라이브러리, 데이터 불러오기"
      ]
    },
    {
      "cell_type": "code",
      "source": [
        "!pip install optuna"
      ],
      "metadata": {
        "id": "z8yVXnIoXOg2",
        "colab": {
          "base_uri": "https://localhost:8080/"
        },
        "outputId": "83e7542f-113f-4118-ab86-89729d3f69e9"
      },
      "id": "z8yVXnIoXOg2",
      "execution_count": 1,
      "outputs": [
        {
          "output_type": "stream",
          "name": "stdout",
          "text": [
            "Looking in indexes: https://pypi.org/simple, https://us-python.pkg.dev/colab-wheels/public/simple/\n",
            "Collecting optuna\n",
            "  Downloading optuna-3.0.3-py3-none-any.whl (348 kB)\n",
            "\u001b[K     |████████████████████████████████| 348 kB 5.1 MB/s \n",
            "\u001b[?25hRequirement already satisfied: packaging>=20.0 in /usr/local/lib/python3.7/dist-packages (from optuna) (21.3)\n",
            "Collecting cliff\n",
            "  Downloading cliff-3.10.1-py3-none-any.whl (81 kB)\n",
            "\u001b[K     |████████████████████████████████| 81 kB 8.8 MB/s \n",
            "\u001b[?25hCollecting colorlog\n",
            "  Downloading colorlog-6.7.0-py2.py3-none-any.whl (11 kB)\n",
            "Requirement already satisfied: numpy in /usr/local/lib/python3.7/dist-packages (from optuna) (1.21.6)\n",
            "Requirement already satisfied: tqdm in /usr/local/lib/python3.7/dist-packages (from optuna) (4.64.1)\n",
            "Collecting alembic>=1.5.0\n",
            "  Downloading alembic-1.8.1-py3-none-any.whl (209 kB)\n",
            "\u001b[K     |████████████████████████████████| 209 kB 55.3 MB/s \n",
            "\u001b[?25hRequirement already satisfied: scipy<1.9.0,>=1.7.0 in /usr/local/lib/python3.7/dist-packages (from optuna) (1.7.3)\n",
            "Requirement already satisfied: importlib-metadata<5.0.0 in /usr/local/lib/python3.7/dist-packages (from optuna) (4.13.0)\n",
            "Requirement already satisfied: sqlalchemy>=1.3.0 in /usr/local/lib/python3.7/dist-packages (from optuna) (1.4.43)\n",
            "Requirement already satisfied: PyYAML in /usr/local/lib/python3.7/dist-packages (from optuna) (6.0)\n",
            "Collecting cmaes>=0.8.2\n",
            "  Downloading cmaes-0.9.0-py3-none-any.whl (23 kB)\n",
            "Collecting Mako\n",
            "  Downloading Mako-1.2.3-py3-none-any.whl (78 kB)\n",
            "\u001b[K     |████████████████████████████████| 78 kB 6.3 MB/s \n",
            "\u001b[?25hRequirement already satisfied: importlib-resources in /usr/local/lib/python3.7/dist-packages (from alembic>=1.5.0->optuna) (5.10.0)\n",
            "Requirement already satisfied: zipp>=0.5 in /usr/local/lib/python3.7/dist-packages (from importlib-metadata<5.0.0->optuna) (3.10.0)\n",
            "Requirement already satisfied: typing-extensions>=3.6.4 in /usr/local/lib/python3.7/dist-packages (from importlib-metadata<5.0.0->optuna) (4.1.1)\n",
            "Requirement already satisfied: pyparsing!=3.0.5,>=2.0.2 in /usr/local/lib/python3.7/dist-packages (from packaging>=20.0->optuna) (3.0.9)\n",
            "Requirement already satisfied: greenlet!=0.4.17 in /usr/local/lib/python3.7/dist-packages (from sqlalchemy>=1.3.0->optuna) (2.0.1)\n",
            "Collecting cmd2>=1.0.0\n",
            "  Downloading cmd2-2.4.2-py3-none-any.whl (147 kB)\n",
            "\u001b[K     |████████████████████████████████| 147 kB 44.7 MB/s \n",
            "\u001b[?25hCollecting autopage>=0.4.0\n",
            "  Downloading autopage-0.5.1-py3-none-any.whl (29 kB)\n",
            "Collecting pbr!=2.1.0,>=2.0.0\n",
            "  Downloading pbr-5.11.0-py2.py3-none-any.whl (112 kB)\n",
            "\u001b[K     |████████████████████████████████| 112 kB 44.2 MB/s \n",
            "\u001b[?25hRequirement already satisfied: PrettyTable>=0.7.2 in /usr/local/lib/python3.7/dist-packages (from cliff->optuna) (3.5.0)\n",
            "Collecting stevedore>=2.0.1\n",
            "  Downloading stevedore-3.5.2-py3-none-any.whl (50 kB)\n",
            "\u001b[K     |████████████████████████████████| 50 kB 5.5 MB/s \n",
            "\u001b[?25hCollecting pyperclip>=1.6\n",
            "  Downloading pyperclip-1.8.2.tar.gz (20 kB)\n",
            "Requirement already satisfied: attrs>=16.3.0 in /usr/local/lib/python3.7/dist-packages (from cmd2>=1.0.0->cliff->optuna) (22.1.0)\n",
            "Requirement already satisfied: wcwidth>=0.1.7 in /usr/local/lib/python3.7/dist-packages (from cmd2>=1.0.0->cliff->optuna) (0.2.5)\n",
            "Requirement already satisfied: MarkupSafe>=0.9.2 in /usr/local/lib/python3.7/dist-packages (from Mako->alembic>=1.5.0->optuna) (2.0.1)\n",
            "Building wheels for collected packages: pyperclip\n",
            "  Building wheel for pyperclip (setup.py) ... \u001b[?25l\u001b[?25hdone\n",
            "  Created wheel for pyperclip: filename=pyperclip-1.8.2-py3-none-any.whl size=11137 sha256=3600ff2726932374c1c8af43b2ca154b15936e86b787de786c236f29cf012a82\n",
            "  Stored in directory: /root/.cache/pip/wheels/9f/18/84/8f69f8b08169c7bae2dde6bd7daf0c19fca8c8e500ee620a28\n",
            "Successfully built pyperclip\n",
            "Installing collected packages: pyperclip, pbr, stevedore, Mako, cmd2, autopage, colorlog, cmaes, cliff, alembic, optuna\n",
            "Successfully installed Mako-1.2.3 alembic-1.8.1 autopage-0.5.1 cliff-3.10.1 cmaes-0.9.0 cmd2-2.4.2 colorlog-6.7.0 optuna-3.0.3 pbr-5.11.0 pyperclip-1.8.2 stevedore-3.5.2\n"
          ]
        }
      ]
    },
    {
      "cell_type": "code",
      "execution_count": 2,
      "id": "125fc348",
      "metadata": {
        "id": "125fc348"
      },
      "outputs": [],
      "source": [
        "# 데이터분석 4종 세트\n",
        "import numpy as np\n",
        "import pandas as pd\n",
        "import matplotlib.pyplot as plt\n",
        "import seaborn as sns\n",
        "\n",
        "# 모델들, 성능 평가\n",
        "# (저는 일반적으로 정형데이터로 머신러닝 분석할 때는 이 2개 모델은 그냥 돌려봅니다. 특히 RF가 테스트하기 좋습니다.)\n",
        "from sklearn.ensemble import RandomForestClassifier\n",
        "from sklearn.ensemble import RandomForestRegressor\n",
        "from lightgbm.sklearn import LGBMClassifier\n",
        "from lightgbm.sklearn import LGBMRegressor\n",
        "\n",
        "# 상관관계 분석, VIF : 다중공선성 제거\n",
        "from statsmodels.stats.outliers_influence import variance_inflation_factor\n",
        "\n",
        "# KFold(CV), partial : optuna를 사용하기 위함\n",
        "from sklearn.model_selection import KFold\n",
        "from functools import partial\n",
        "\n",
        "# hyper-parameter tuning을 위한 라이브러리, optuna\n",
        "import optuna"
      ]
    },
    {
      "cell_type": "code",
      "execution_count": 3,
      "id": "0e4d49ce",
      "metadata": {
        "id": "0e4d49ce"
      },
      "outputs": [],
      "source": [
        "# flag setting\n",
        "data_reducing = False ## memory reducing technique\n",
        "feature_reducing = False ## feature extraction (curse of dimensionality)"
      ]
    },
    {
      "cell_type": "code",
      "source": [
        "from google.colab import drive\n",
        "drive.mount('/content/drive')"
      ],
      "metadata": {
        "colab": {
          "base_uri": "https://localhost:8080/"
        },
        "id": "J2ATgIAZ4Csm",
        "outputId": "7dbb9b29-ae0a-4bb5-c3fe-087fbd3a03ce"
      },
      "id": "J2ATgIAZ4Csm",
      "execution_count": 4,
      "outputs": [
        {
          "output_type": "stream",
          "name": "stdout",
          "text": [
            "Mounted at /content/drive\n"
          ]
        }
      ]
    },
    {
      "cell_type": "code",
      "execution_count": 5,
      "id": "3615c24a",
      "metadata": {
        "id": "3615c24a"
      },
      "outputs": [],
      "source": [
        "# 데이터를 불러옵니다.\n",
        "base_path = \"/content/drive/MyDrive/Colab Notebooks/MachineLearning/data/Construction_machinery/\"\n",
        "train = pd.read_csv(base_path + \"train.csv\")\n",
        "test = pd.read_csv(base_path + \"test.csv\")"
      ]
    },
    {
      "cell_type": "markdown",
      "id": "c9c9acb8",
      "metadata": {
        "id": "c9c9acb8"
      },
      "source": [
        "## 2. EDA"
      ]
    },
    {
      "cell_type": "markdown",
      "id": "6fdf620b",
      "metadata": {
        "id": "6fdf620b"
      },
      "source": [
        "- 데이터에서 찾아야 하는 기초적인 내용들을 확인합니다.\n",
        "\n",
        "\n",
        "- class imbalance, target distribution, outlier, correlation을 확인합니다."
      ]
    },
    {
      "cell_type": "code",
      "execution_count": 6,
      "id": "adb06474",
      "metadata": {
        "id": "adb06474",
        "colab": {
          "base_uri": "https://localhost:8080/",
          "height": 423
        },
        "outputId": "9225194a-2519-4bb9-b1e4-942d235d3852"
      },
      "outputs": [
        {
          "output_type": "execute_result",
          "data": {
            "text/plain": [
              "                ID COMPONENT_ARBITRARY  ANONYMOUS_1  YEAR  \\\n",
              "0      TRAIN_00000          COMPONENT3         1486  2011   \n",
              "1      TRAIN_00001          COMPONENT2         1350  2021   \n",
              "2      TRAIN_00002          COMPONENT2         2415  2015   \n",
              "3      TRAIN_00003          COMPONENT3         7389  2010   \n",
              "4      TRAIN_00004          COMPONENT3         3954  2015   \n",
              "...            ...                 ...          ...   ...   \n",
              "14090  TRAIN_14090          COMPONENT3         1616  2014   \n",
              "14091  TRAIN_14091          COMPONENT1         2784  2013   \n",
              "14092  TRAIN_14092          COMPONENT3         1788  2008   \n",
              "14093  TRAIN_14093          COMPONENT2         2498  2009   \n",
              "14094  TRAIN_14094          COMPONENT2         1902  2012   \n",
              "\n",
              "       SAMPLE_TRANSFER_DAY  ANONYMOUS_2  AG   AL    B  BA  ...     U25  \\\n",
              "0                        7          200   0    3   93   0  ...     NaN   \n",
              "1                       51          375   0    2   19   0  ...     2.0   \n",
              "2                        2          200   0  110    1   1  ...     0.0   \n",
              "3                        2          200   0    8    3   0  ...     NaN   \n",
              "4                        4          200   0    1  157   0  ...     NaN   \n",
              "...                    ...          ...  ..  ...  ...  ..  ...     ...   \n",
              "14090                    8          200   0    2  201   1  ...     NaN   \n",
              "14091                    2          200   0    3   85   0  ...     NaN   \n",
              "14092                    9          550   0    6    0   1  ...     NaN   \n",
              "14093                   19          550   0    2    4   0  ...     7.0   \n",
              "14094                   15          200   0    0   77   0  ...  1163.0   \n",
              "\n",
              "          U20      U14        U6        U4  V  V100    V40    ZN  Y_LABEL  \n",
              "0         NaN      NaN       NaN       NaN  0   NaN  154.0    75        0  \n",
              "1         4.0      6.0     216.0    1454.0  0   NaN   44.0   652        0  \n",
              "2         3.0     39.0   11261.0   41081.0  0   NaN   72.6   412        1  \n",
              "3         NaN      NaN       NaN       NaN  0   NaN  133.3     7        0  \n",
              "4         NaN      NaN       NaN       NaN  0   NaN  133.1   128        0  \n",
              "...       ...      ...       ...       ... ..   ...    ...   ...      ...  \n",
              "14090     NaN      NaN       NaN       NaN  0   NaN  135.4    16        0  \n",
              "14091     NaN      NaN       NaN       NaN  0  14.5  117.5  1408        0  \n",
              "14092     NaN      NaN       NaN       NaN  0   NaN   54.0  1301        0  \n",
              "14093     8.0    100.0    1625.0   18890.0  0   NaN   44.3   652        0  \n",
              "14094  2565.0  11296.0  181016.0  325823.0  0   NaN   47.0   612        0  \n",
              "\n",
              "[14095 rows x 54 columns]"
            ],
            "text/html": [
              "\n",
              "  <div id=\"df-9887835b-2cb7-4eab-902d-0c2297b59fdb\">\n",
              "    <div class=\"colab-df-container\">\n",
              "      <div>\n",
              "<style scoped>\n",
              "    .dataframe tbody tr th:only-of-type {\n",
              "        vertical-align: middle;\n",
              "    }\n",
              "\n",
              "    .dataframe tbody tr th {\n",
              "        vertical-align: top;\n",
              "    }\n",
              "\n",
              "    .dataframe thead th {\n",
              "        text-align: right;\n",
              "    }\n",
              "</style>\n",
              "<table border=\"1\" class=\"dataframe\">\n",
              "  <thead>\n",
              "    <tr style=\"text-align: right;\">\n",
              "      <th></th>\n",
              "      <th>ID</th>\n",
              "      <th>COMPONENT_ARBITRARY</th>\n",
              "      <th>ANONYMOUS_1</th>\n",
              "      <th>YEAR</th>\n",
              "      <th>SAMPLE_TRANSFER_DAY</th>\n",
              "      <th>ANONYMOUS_2</th>\n",
              "      <th>AG</th>\n",
              "      <th>AL</th>\n",
              "      <th>B</th>\n",
              "      <th>BA</th>\n",
              "      <th>...</th>\n",
              "      <th>U25</th>\n",
              "      <th>U20</th>\n",
              "      <th>U14</th>\n",
              "      <th>U6</th>\n",
              "      <th>U4</th>\n",
              "      <th>V</th>\n",
              "      <th>V100</th>\n",
              "      <th>V40</th>\n",
              "      <th>ZN</th>\n",
              "      <th>Y_LABEL</th>\n",
              "    </tr>\n",
              "  </thead>\n",
              "  <tbody>\n",
              "    <tr>\n",
              "      <th>0</th>\n",
              "      <td>TRAIN_00000</td>\n",
              "      <td>COMPONENT3</td>\n",
              "      <td>1486</td>\n",
              "      <td>2011</td>\n",
              "      <td>7</td>\n",
              "      <td>200</td>\n",
              "      <td>0</td>\n",
              "      <td>3</td>\n",
              "      <td>93</td>\n",
              "      <td>0</td>\n",
              "      <td>...</td>\n",
              "      <td>NaN</td>\n",
              "      <td>NaN</td>\n",
              "      <td>NaN</td>\n",
              "      <td>NaN</td>\n",
              "      <td>NaN</td>\n",
              "      <td>0</td>\n",
              "      <td>NaN</td>\n",
              "      <td>154.0</td>\n",
              "      <td>75</td>\n",
              "      <td>0</td>\n",
              "    </tr>\n",
              "    <tr>\n",
              "      <th>1</th>\n",
              "      <td>TRAIN_00001</td>\n",
              "      <td>COMPONENT2</td>\n",
              "      <td>1350</td>\n",
              "      <td>2021</td>\n",
              "      <td>51</td>\n",
              "      <td>375</td>\n",
              "      <td>0</td>\n",
              "      <td>2</td>\n",
              "      <td>19</td>\n",
              "      <td>0</td>\n",
              "      <td>...</td>\n",
              "      <td>2.0</td>\n",
              "      <td>4.0</td>\n",
              "      <td>6.0</td>\n",
              "      <td>216.0</td>\n",
              "      <td>1454.0</td>\n",
              "      <td>0</td>\n",
              "      <td>NaN</td>\n",
              "      <td>44.0</td>\n",
              "      <td>652</td>\n",
              "      <td>0</td>\n",
              "    </tr>\n",
              "    <tr>\n",
              "      <th>2</th>\n",
              "      <td>TRAIN_00002</td>\n",
              "      <td>COMPONENT2</td>\n",
              "      <td>2415</td>\n",
              "      <td>2015</td>\n",
              "      <td>2</td>\n",
              "      <td>200</td>\n",
              "      <td>0</td>\n",
              "      <td>110</td>\n",
              "      <td>1</td>\n",
              "      <td>1</td>\n",
              "      <td>...</td>\n",
              "      <td>0.0</td>\n",
              "      <td>3.0</td>\n",
              "      <td>39.0</td>\n",
              "      <td>11261.0</td>\n",
              "      <td>41081.0</td>\n",
              "      <td>0</td>\n",
              "      <td>NaN</td>\n",
              "      <td>72.6</td>\n",
              "      <td>412</td>\n",
              "      <td>1</td>\n",
              "    </tr>\n",
              "    <tr>\n",
              "      <th>3</th>\n",
              "      <td>TRAIN_00003</td>\n",
              "      <td>COMPONENT3</td>\n",
              "      <td>7389</td>\n",
              "      <td>2010</td>\n",
              "      <td>2</td>\n",
              "      <td>200</td>\n",
              "      <td>0</td>\n",
              "      <td>8</td>\n",
              "      <td>3</td>\n",
              "      <td>0</td>\n",
              "      <td>...</td>\n",
              "      <td>NaN</td>\n",
              "      <td>NaN</td>\n",
              "      <td>NaN</td>\n",
              "      <td>NaN</td>\n",
              "      <td>NaN</td>\n",
              "      <td>0</td>\n",
              "      <td>NaN</td>\n",
              "      <td>133.3</td>\n",
              "      <td>7</td>\n",
              "      <td>0</td>\n",
              "    </tr>\n",
              "    <tr>\n",
              "      <th>4</th>\n",
              "      <td>TRAIN_00004</td>\n",
              "      <td>COMPONENT3</td>\n",
              "      <td>3954</td>\n",
              "      <td>2015</td>\n",
              "      <td>4</td>\n",
              "      <td>200</td>\n",
              "      <td>0</td>\n",
              "      <td>1</td>\n",
              "      <td>157</td>\n",
              "      <td>0</td>\n",
              "      <td>...</td>\n",
              "      <td>NaN</td>\n",
              "      <td>NaN</td>\n",
              "      <td>NaN</td>\n",
              "      <td>NaN</td>\n",
              "      <td>NaN</td>\n",
              "      <td>0</td>\n",
              "      <td>NaN</td>\n",
              "      <td>133.1</td>\n",
              "      <td>128</td>\n",
              "      <td>0</td>\n",
              "    </tr>\n",
              "    <tr>\n",
              "      <th>...</th>\n",
              "      <td>...</td>\n",
              "      <td>...</td>\n",
              "      <td>...</td>\n",
              "      <td>...</td>\n",
              "      <td>...</td>\n",
              "      <td>...</td>\n",
              "      <td>...</td>\n",
              "      <td>...</td>\n",
              "      <td>...</td>\n",
              "      <td>...</td>\n",
              "      <td>...</td>\n",
              "      <td>...</td>\n",
              "      <td>...</td>\n",
              "      <td>...</td>\n",
              "      <td>...</td>\n",
              "      <td>...</td>\n",
              "      <td>...</td>\n",
              "      <td>...</td>\n",
              "      <td>...</td>\n",
              "      <td>...</td>\n",
              "      <td>...</td>\n",
              "    </tr>\n",
              "    <tr>\n",
              "      <th>14090</th>\n",
              "      <td>TRAIN_14090</td>\n",
              "      <td>COMPONENT3</td>\n",
              "      <td>1616</td>\n",
              "      <td>2014</td>\n",
              "      <td>8</td>\n",
              "      <td>200</td>\n",
              "      <td>0</td>\n",
              "      <td>2</td>\n",
              "      <td>201</td>\n",
              "      <td>1</td>\n",
              "      <td>...</td>\n",
              "      <td>NaN</td>\n",
              "      <td>NaN</td>\n",
              "      <td>NaN</td>\n",
              "      <td>NaN</td>\n",
              "      <td>NaN</td>\n",
              "      <td>0</td>\n",
              "      <td>NaN</td>\n",
              "      <td>135.4</td>\n",
              "      <td>16</td>\n",
              "      <td>0</td>\n",
              "    </tr>\n",
              "    <tr>\n",
              "      <th>14091</th>\n",
              "      <td>TRAIN_14091</td>\n",
              "      <td>COMPONENT1</td>\n",
              "      <td>2784</td>\n",
              "      <td>2013</td>\n",
              "      <td>2</td>\n",
              "      <td>200</td>\n",
              "      <td>0</td>\n",
              "      <td>3</td>\n",
              "      <td>85</td>\n",
              "      <td>0</td>\n",
              "      <td>...</td>\n",
              "      <td>NaN</td>\n",
              "      <td>NaN</td>\n",
              "      <td>NaN</td>\n",
              "      <td>NaN</td>\n",
              "      <td>NaN</td>\n",
              "      <td>0</td>\n",
              "      <td>14.5</td>\n",
              "      <td>117.5</td>\n",
              "      <td>1408</td>\n",
              "      <td>0</td>\n",
              "    </tr>\n",
              "    <tr>\n",
              "      <th>14092</th>\n",
              "      <td>TRAIN_14092</td>\n",
              "      <td>COMPONENT3</td>\n",
              "      <td>1788</td>\n",
              "      <td>2008</td>\n",
              "      <td>9</td>\n",
              "      <td>550</td>\n",
              "      <td>0</td>\n",
              "      <td>6</td>\n",
              "      <td>0</td>\n",
              "      <td>1</td>\n",
              "      <td>...</td>\n",
              "      <td>NaN</td>\n",
              "      <td>NaN</td>\n",
              "      <td>NaN</td>\n",
              "      <td>NaN</td>\n",
              "      <td>NaN</td>\n",
              "      <td>0</td>\n",
              "      <td>NaN</td>\n",
              "      <td>54.0</td>\n",
              "      <td>1301</td>\n",
              "      <td>0</td>\n",
              "    </tr>\n",
              "    <tr>\n",
              "      <th>14093</th>\n",
              "      <td>TRAIN_14093</td>\n",
              "      <td>COMPONENT2</td>\n",
              "      <td>2498</td>\n",
              "      <td>2009</td>\n",
              "      <td>19</td>\n",
              "      <td>550</td>\n",
              "      <td>0</td>\n",
              "      <td>2</td>\n",
              "      <td>4</td>\n",
              "      <td>0</td>\n",
              "      <td>...</td>\n",
              "      <td>7.0</td>\n",
              "      <td>8.0</td>\n",
              "      <td>100.0</td>\n",
              "      <td>1625.0</td>\n",
              "      <td>18890.0</td>\n",
              "      <td>0</td>\n",
              "      <td>NaN</td>\n",
              "      <td>44.3</td>\n",
              "      <td>652</td>\n",
              "      <td>0</td>\n",
              "    </tr>\n",
              "    <tr>\n",
              "      <th>14094</th>\n",
              "      <td>TRAIN_14094</td>\n",
              "      <td>COMPONENT2</td>\n",
              "      <td>1902</td>\n",
              "      <td>2012</td>\n",
              "      <td>15</td>\n",
              "      <td>200</td>\n",
              "      <td>0</td>\n",
              "      <td>0</td>\n",
              "      <td>77</td>\n",
              "      <td>0</td>\n",
              "      <td>...</td>\n",
              "      <td>1163.0</td>\n",
              "      <td>2565.0</td>\n",
              "      <td>11296.0</td>\n",
              "      <td>181016.0</td>\n",
              "      <td>325823.0</td>\n",
              "      <td>0</td>\n",
              "      <td>NaN</td>\n",
              "      <td>47.0</td>\n",
              "      <td>612</td>\n",
              "      <td>0</td>\n",
              "    </tr>\n",
              "  </tbody>\n",
              "</table>\n",
              "<p>14095 rows × 54 columns</p>\n",
              "</div>\n",
              "      <button class=\"colab-df-convert\" onclick=\"convertToInteractive('df-9887835b-2cb7-4eab-902d-0c2297b59fdb')\"\n",
              "              title=\"Convert this dataframe to an interactive table.\"\n",
              "              style=\"display:none;\">\n",
              "        \n",
              "  <svg xmlns=\"http://www.w3.org/2000/svg\" height=\"24px\"viewBox=\"0 0 24 24\"\n",
              "       width=\"24px\">\n",
              "    <path d=\"M0 0h24v24H0V0z\" fill=\"none\"/>\n",
              "    <path d=\"M18.56 5.44l.94 2.06.94-2.06 2.06-.94-2.06-.94-.94-2.06-.94 2.06-2.06.94zm-11 1L8.5 8.5l.94-2.06 2.06-.94-2.06-.94L8.5 2.5l-.94 2.06-2.06.94zm10 10l.94 2.06.94-2.06 2.06-.94-2.06-.94-.94-2.06-.94 2.06-2.06.94z\"/><path d=\"M17.41 7.96l-1.37-1.37c-.4-.4-.92-.59-1.43-.59-.52 0-1.04.2-1.43.59L10.3 9.45l-7.72 7.72c-.78.78-.78 2.05 0 2.83L4 21.41c.39.39.9.59 1.41.59.51 0 1.02-.2 1.41-.59l7.78-7.78 2.81-2.81c.8-.78.8-2.07 0-2.86zM5.41 20L4 18.59l7.72-7.72 1.47 1.35L5.41 20z\"/>\n",
              "  </svg>\n",
              "      </button>\n",
              "      \n",
              "  <style>\n",
              "    .colab-df-container {\n",
              "      display:flex;\n",
              "      flex-wrap:wrap;\n",
              "      gap: 12px;\n",
              "    }\n",
              "\n",
              "    .colab-df-convert {\n",
              "      background-color: #E8F0FE;\n",
              "      border: none;\n",
              "      border-radius: 50%;\n",
              "      cursor: pointer;\n",
              "      display: none;\n",
              "      fill: #1967D2;\n",
              "      height: 32px;\n",
              "      padding: 0 0 0 0;\n",
              "      width: 32px;\n",
              "    }\n",
              "\n",
              "    .colab-df-convert:hover {\n",
              "      background-color: #E2EBFA;\n",
              "      box-shadow: 0px 1px 2px rgba(60, 64, 67, 0.3), 0px 1px 3px 1px rgba(60, 64, 67, 0.15);\n",
              "      fill: #174EA6;\n",
              "    }\n",
              "\n",
              "    [theme=dark] .colab-df-convert {\n",
              "      background-color: #3B4455;\n",
              "      fill: #D2E3FC;\n",
              "    }\n",
              "\n",
              "    [theme=dark] .colab-df-convert:hover {\n",
              "      background-color: #434B5C;\n",
              "      box-shadow: 0px 1px 3px 1px rgba(0, 0, 0, 0.15);\n",
              "      filter: drop-shadow(0px 1px 2px rgba(0, 0, 0, 0.3));\n",
              "      fill: #FFFFFF;\n",
              "    }\n",
              "  </style>\n",
              "\n",
              "      <script>\n",
              "        const buttonEl =\n",
              "          document.querySelector('#df-9887835b-2cb7-4eab-902d-0c2297b59fdb button.colab-df-convert');\n",
              "        buttonEl.style.display =\n",
              "          google.colab.kernel.accessAllowed ? 'block' : 'none';\n",
              "\n",
              "        async function convertToInteractive(key) {\n",
              "          const element = document.querySelector('#df-9887835b-2cb7-4eab-902d-0c2297b59fdb');\n",
              "          const dataTable =\n",
              "            await google.colab.kernel.invokeFunction('convertToInteractive',\n",
              "                                                     [key], {});\n",
              "          if (!dataTable) return;\n",
              "\n",
              "          const docLinkHtml = 'Like what you see? Visit the ' +\n",
              "            '<a target=\"_blank\" href=https://colab.research.google.com/notebooks/data_table.ipynb>data table notebook</a>'\n",
              "            + ' to learn more about interactive tables.';\n",
              "          element.innerHTML = '';\n",
              "          dataTable['output_type'] = 'display_data';\n",
              "          await google.colab.output.renderOutput(dataTable, element);\n",
              "          const docLink = document.createElement('div');\n",
              "          docLink.innerHTML = docLinkHtml;\n",
              "          element.appendChild(docLink);\n",
              "        }\n",
              "      </script>\n",
              "    </div>\n",
              "  </div>\n",
              "  "
            ]
          },
          "metadata": {},
          "execution_count": 6
        }
      ],
      "source": [
        "train"
      ]
    },
    {
      "cell_type": "code",
      "source": [
        "test"
      ],
      "metadata": {
        "colab": {
          "base_uri": "https://localhost:8080/",
          "height": 423
        },
        "id": "uckKUP_-5Fu7",
        "outputId": "6f608ddd-05fd-4cc3-bc80-2201685a7ea2"
      },
      "id": "uckKUP_-5Fu7",
      "execution_count": 7,
      "outputs": [
        {
          "output_type": "execute_result",
          "data": {
            "text/plain": [
              "             ID COMPONENT_ARBITRARY  ANONYMOUS_1  YEAR  ANONYMOUS_2  AG  CO  \\\n",
              "0     TEST_0000          COMPONENT1         2192  2016          200   0   0   \n",
              "1     TEST_0001          COMPONENT3         2794  2011          200   0   0   \n",
              "2     TEST_0002          COMPONENT2         1982  2010          200   0   0   \n",
              "3     TEST_0003          COMPONENT3         1404  2009          200   0   0   \n",
              "4     TEST_0004          COMPONENT2         8225  2013          200   0   0   \n",
              "...         ...                 ...          ...   ...          ...  ..  ..   \n",
              "6036  TEST_6036          COMPONENT3         1714  2014          200   0   0   \n",
              "6037  TEST_6037          COMPONENT3         4131  2016          200   0   0   \n",
              "6038  TEST_6038          COMPONENT3         4325  2014          200   0   0   \n",
              "6039  TEST_6039          COMPONENT2         1364  2013          200   0   0   \n",
              "6040  TEST_6040          COMPONENT1         2397  2016         1597   1   0   \n",
              "\n",
              "      CR   CU    FE  H2O  MN  MO  NI  PQINDEX  TI  V    V40    ZN  \n",
              "0      0    1    12  0.0   0   0   0       10   0  0   91.3  1091  \n",
              "1      2    1   278  0.0   3   0   0     2732   1  0  126.9    12  \n",
              "2      0   16     5  0.0   0   0   0       11   0  0   44.3   714  \n",
              "3      3    4   163  0.0   4   3   0     8007   0  0  142.8    94  \n",
              "4      0    6    13  0.0   0   0   0       16   0  0   63.4   469  \n",
              "...   ..  ...   ...  ...  ..  ..  ..      ...  .. ..    ...   ...  \n",
              "6036   3  130  1047  0.0  65   5   2     1999   0  0   71.2  1163  \n",
              "6037   5    2   736  0.0   5   0   0      693   0  0  137.8    13  \n",
              "6038   0    0    53  0.0   0   0   0       69   0  0  302.2    13  \n",
              "6039   0   62     2  0.0   0   0   0        5   0  0   51.1   478  \n",
              "6040   0    0     4  0.0   0   2   0       14   0  0   80.0   970  \n",
              "\n",
              "[6041 rows x 19 columns]"
            ],
            "text/html": [
              "\n",
              "  <div id=\"df-0bfb2f26-512e-47e0-aec2-a97297c74aa4\">\n",
              "    <div class=\"colab-df-container\">\n",
              "      <div>\n",
              "<style scoped>\n",
              "    .dataframe tbody tr th:only-of-type {\n",
              "        vertical-align: middle;\n",
              "    }\n",
              "\n",
              "    .dataframe tbody tr th {\n",
              "        vertical-align: top;\n",
              "    }\n",
              "\n",
              "    .dataframe thead th {\n",
              "        text-align: right;\n",
              "    }\n",
              "</style>\n",
              "<table border=\"1\" class=\"dataframe\">\n",
              "  <thead>\n",
              "    <tr style=\"text-align: right;\">\n",
              "      <th></th>\n",
              "      <th>ID</th>\n",
              "      <th>COMPONENT_ARBITRARY</th>\n",
              "      <th>ANONYMOUS_1</th>\n",
              "      <th>YEAR</th>\n",
              "      <th>ANONYMOUS_2</th>\n",
              "      <th>AG</th>\n",
              "      <th>CO</th>\n",
              "      <th>CR</th>\n",
              "      <th>CU</th>\n",
              "      <th>FE</th>\n",
              "      <th>H2O</th>\n",
              "      <th>MN</th>\n",
              "      <th>MO</th>\n",
              "      <th>NI</th>\n",
              "      <th>PQINDEX</th>\n",
              "      <th>TI</th>\n",
              "      <th>V</th>\n",
              "      <th>V40</th>\n",
              "      <th>ZN</th>\n",
              "    </tr>\n",
              "  </thead>\n",
              "  <tbody>\n",
              "    <tr>\n",
              "      <th>0</th>\n",
              "      <td>TEST_0000</td>\n",
              "      <td>COMPONENT1</td>\n",
              "      <td>2192</td>\n",
              "      <td>2016</td>\n",
              "      <td>200</td>\n",
              "      <td>0</td>\n",
              "      <td>0</td>\n",
              "      <td>0</td>\n",
              "      <td>1</td>\n",
              "      <td>12</td>\n",
              "      <td>0.0</td>\n",
              "      <td>0</td>\n",
              "      <td>0</td>\n",
              "      <td>0</td>\n",
              "      <td>10</td>\n",
              "      <td>0</td>\n",
              "      <td>0</td>\n",
              "      <td>91.3</td>\n",
              "      <td>1091</td>\n",
              "    </tr>\n",
              "    <tr>\n",
              "      <th>1</th>\n",
              "      <td>TEST_0001</td>\n",
              "      <td>COMPONENT3</td>\n",
              "      <td>2794</td>\n",
              "      <td>2011</td>\n",
              "      <td>200</td>\n",
              "      <td>0</td>\n",
              "      <td>0</td>\n",
              "      <td>2</td>\n",
              "      <td>1</td>\n",
              "      <td>278</td>\n",
              "      <td>0.0</td>\n",
              "      <td>3</td>\n",
              "      <td>0</td>\n",
              "      <td>0</td>\n",
              "      <td>2732</td>\n",
              "      <td>1</td>\n",
              "      <td>0</td>\n",
              "      <td>126.9</td>\n",
              "      <td>12</td>\n",
              "    </tr>\n",
              "    <tr>\n",
              "      <th>2</th>\n",
              "      <td>TEST_0002</td>\n",
              "      <td>COMPONENT2</td>\n",
              "      <td>1982</td>\n",
              "      <td>2010</td>\n",
              "      <td>200</td>\n",
              "      <td>0</td>\n",
              "      <td>0</td>\n",
              "      <td>0</td>\n",
              "      <td>16</td>\n",
              "      <td>5</td>\n",
              "      <td>0.0</td>\n",
              "      <td>0</td>\n",
              "      <td>0</td>\n",
              "      <td>0</td>\n",
              "      <td>11</td>\n",
              "      <td>0</td>\n",
              "      <td>0</td>\n",
              "      <td>44.3</td>\n",
              "      <td>714</td>\n",
              "    </tr>\n",
              "    <tr>\n",
              "      <th>3</th>\n",
              "      <td>TEST_0003</td>\n",
              "      <td>COMPONENT3</td>\n",
              "      <td>1404</td>\n",
              "      <td>2009</td>\n",
              "      <td>200</td>\n",
              "      <td>0</td>\n",
              "      <td>0</td>\n",
              "      <td>3</td>\n",
              "      <td>4</td>\n",
              "      <td>163</td>\n",
              "      <td>0.0</td>\n",
              "      <td>4</td>\n",
              "      <td>3</td>\n",
              "      <td>0</td>\n",
              "      <td>8007</td>\n",
              "      <td>0</td>\n",
              "      <td>0</td>\n",
              "      <td>142.8</td>\n",
              "      <td>94</td>\n",
              "    </tr>\n",
              "    <tr>\n",
              "      <th>4</th>\n",
              "      <td>TEST_0004</td>\n",
              "      <td>COMPONENT2</td>\n",
              "      <td>8225</td>\n",
              "      <td>2013</td>\n",
              "      <td>200</td>\n",
              "      <td>0</td>\n",
              "      <td>0</td>\n",
              "      <td>0</td>\n",
              "      <td>6</td>\n",
              "      <td>13</td>\n",
              "      <td>0.0</td>\n",
              "      <td>0</td>\n",
              "      <td>0</td>\n",
              "      <td>0</td>\n",
              "      <td>16</td>\n",
              "      <td>0</td>\n",
              "      <td>0</td>\n",
              "      <td>63.4</td>\n",
              "      <td>469</td>\n",
              "    </tr>\n",
              "    <tr>\n",
              "      <th>...</th>\n",
              "      <td>...</td>\n",
              "      <td>...</td>\n",
              "      <td>...</td>\n",
              "      <td>...</td>\n",
              "      <td>...</td>\n",
              "      <td>...</td>\n",
              "      <td>...</td>\n",
              "      <td>...</td>\n",
              "      <td>...</td>\n",
              "      <td>...</td>\n",
              "      <td>...</td>\n",
              "      <td>...</td>\n",
              "      <td>...</td>\n",
              "      <td>...</td>\n",
              "      <td>...</td>\n",
              "      <td>...</td>\n",
              "      <td>...</td>\n",
              "      <td>...</td>\n",
              "      <td>...</td>\n",
              "    </tr>\n",
              "    <tr>\n",
              "      <th>6036</th>\n",
              "      <td>TEST_6036</td>\n",
              "      <td>COMPONENT3</td>\n",
              "      <td>1714</td>\n",
              "      <td>2014</td>\n",
              "      <td>200</td>\n",
              "      <td>0</td>\n",
              "      <td>0</td>\n",
              "      <td>3</td>\n",
              "      <td>130</td>\n",
              "      <td>1047</td>\n",
              "      <td>0.0</td>\n",
              "      <td>65</td>\n",
              "      <td>5</td>\n",
              "      <td>2</td>\n",
              "      <td>1999</td>\n",
              "      <td>0</td>\n",
              "      <td>0</td>\n",
              "      <td>71.2</td>\n",
              "      <td>1163</td>\n",
              "    </tr>\n",
              "    <tr>\n",
              "      <th>6037</th>\n",
              "      <td>TEST_6037</td>\n",
              "      <td>COMPONENT3</td>\n",
              "      <td>4131</td>\n",
              "      <td>2016</td>\n",
              "      <td>200</td>\n",
              "      <td>0</td>\n",
              "      <td>0</td>\n",
              "      <td>5</td>\n",
              "      <td>2</td>\n",
              "      <td>736</td>\n",
              "      <td>0.0</td>\n",
              "      <td>5</td>\n",
              "      <td>0</td>\n",
              "      <td>0</td>\n",
              "      <td>693</td>\n",
              "      <td>0</td>\n",
              "      <td>0</td>\n",
              "      <td>137.8</td>\n",
              "      <td>13</td>\n",
              "    </tr>\n",
              "    <tr>\n",
              "      <th>6038</th>\n",
              "      <td>TEST_6038</td>\n",
              "      <td>COMPONENT3</td>\n",
              "      <td>4325</td>\n",
              "      <td>2014</td>\n",
              "      <td>200</td>\n",
              "      <td>0</td>\n",
              "      <td>0</td>\n",
              "      <td>0</td>\n",
              "      <td>0</td>\n",
              "      <td>53</td>\n",
              "      <td>0.0</td>\n",
              "      <td>0</td>\n",
              "      <td>0</td>\n",
              "      <td>0</td>\n",
              "      <td>69</td>\n",
              "      <td>0</td>\n",
              "      <td>0</td>\n",
              "      <td>302.2</td>\n",
              "      <td>13</td>\n",
              "    </tr>\n",
              "    <tr>\n",
              "      <th>6039</th>\n",
              "      <td>TEST_6039</td>\n",
              "      <td>COMPONENT2</td>\n",
              "      <td>1364</td>\n",
              "      <td>2013</td>\n",
              "      <td>200</td>\n",
              "      <td>0</td>\n",
              "      <td>0</td>\n",
              "      <td>0</td>\n",
              "      <td>62</td>\n",
              "      <td>2</td>\n",
              "      <td>0.0</td>\n",
              "      <td>0</td>\n",
              "      <td>0</td>\n",
              "      <td>0</td>\n",
              "      <td>5</td>\n",
              "      <td>0</td>\n",
              "      <td>0</td>\n",
              "      <td>51.1</td>\n",
              "      <td>478</td>\n",
              "    </tr>\n",
              "    <tr>\n",
              "      <th>6040</th>\n",
              "      <td>TEST_6040</td>\n",
              "      <td>COMPONENT1</td>\n",
              "      <td>2397</td>\n",
              "      <td>2016</td>\n",
              "      <td>1597</td>\n",
              "      <td>1</td>\n",
              "      <td>0</td>\n",
              "      <td>0</td>\n",
              "      <td>0</td>\n",
              "      <td>4</td>\n",
              "      <td>0.0</td>\n",
              "      <td>0</td>\n",
              "      <td>2</td>\n",
              "      <td>0</td>\n",
              "      <td>14</td>\n",
              "      <td>0</td>\n",
              "      <td>0</td>\n",
              "      <td>80.0</td>\n",
              "      <td>970</td>\n",
              "    </tr>\n",
              "  </tbody>\n",
              "</table>\n",
              "<p>6041 rows × 19 columns</p>\n",
              "</div>\n",
              "      <button class=\"colab-df-convert\" onclick=\"convertToInteractive('df-0bfb2f26-512e-47e0-aec2-a97297c74aa4')\"\n",
              "              title=\"Convert this dataframe to an interactive table.\"\n",
              "              style=\"display:none;\">\n",
              "        \n",
              "  <svg xmlns=\"http://www.w3.org/2000/svg\" height=\"24px\"viewBox=\"0 0 24 24\"\n",
              "       width=\"24px\">\n",
              "    <path d=\"M0 0h24v24H0V0z\" fill=\"none\"/>\n",
              "    <path d=\"M18.56 5.44l.94 2.06.94-2.06 2.06-.94-2.06-.94-.94-2.06-.94 2.06-2.06.94zm-11 1L8.5 8.5l.94-2.06 2.06-.94-2.06-.94L8.5 2.5l-.94 2.06-2.06.94zm10 10l.94 2.06.94-2.06 2.06-.94-2.06-.94-.94-2.06-.94 2.06-2.06.94z\"/><path d=\"M17.41 7.96l-1.37-1.37c-.4-.4-.92-.59-1.43-.59-.52 0-1.04.2-1.43.59L10.3 9.45l-7.72 7.72c-.78.78-.78 2.05 0 2.83L4 21.41c.39.39.9.59 1.41.59.51 0 1.02-.2 1.41-.59l7.78-7.78 2.81-2.81c.8-.78.8-2.07 0-2.86zM5.41 20L4 18.59l7.72-7.72 1.47 1.35L5.41 20z\"/>\n",
              "  </svg>\n",
              "      </button>\n",
              "      \n",
              "  <style>\n",
              "    .colab-df-container {\n",
              "      display:flex;\n",
              "      flex-wrap:wrap;\n",
              "      gap: 12px;\n",
              "    }\n",
              "\n",
              "    .colab-df-convert {\n",
              "      background-color: #E8F0FE;\n",
              "      border: none;\n",
              "      border-radius: 50%;\n",
              "      cursor: pointer;\n",
              "      display: none;\n",
              "      fill: #1967D2;\n",
              "      height: 32px;\n",
              "      padding: 0 0 0 0;\n",
              "      width: 32px;\n",
              "    }\n",
              "\n",
              "    .colab-df-convert:hover {\n",
              "      background-color: #E2EBFA;\n",
              "      box-shadow: 0px 1px 2px rgba(60, 64, 67, 0.3), 0px 1px 3px 1px rgba(60, 64, 67, 0.15);\n",
              "      fill: #174EA6;\n",
              "    }\n",
              "\n",
              "    [theme=dark] .colab-df-convert {\n",
              "      background-color: #3B4455;\n",
              "      fill: #D2E3FC;\n",
              "    }\n",
              "\n",
              "    [theme=dark] .colab-df-convert:hover {\n",
              "      background-color: #434B5C;\n",
              "      box-shadow: 0px 1px 3px 1px rgba(0, 0, 0, 0.15);\n",
              "      filter: drop-shadow(0px 1px 2px rgba(0, 0, 0, 0.3));\n",
              "      fill: #FFFFFF;\n",
              "    }\n",
              "  </style>\n",
              "\n",
              "      <script>\n",
              "        const buttonEl =\n",
              "          document.querySelector('#df-0bfb2f26-512e-47e0-aec2-a97297c74aa4 button.colab-df-convert');\n",
              "        buttonEl.style.display =\n",
              "          google.colab.kernel.accessAllowed ? 'block' : 'none';\n",
              "\n",
              "        async function convertToInteractive(key) {\n",
              "          const element = document.querySelector('#df-0bfb2f26-512e-47e0-aec2-a97297c74aa4');\n",
              "          const dataTable =\n",
              "            await google.colab.kernel.invokeFunction('convertToInteractive',\n",
              "                                                     [key], {});\n",
              "          if (!dataTable) return;\n",
              "\n",
              "          const docLinkHtml = 'Like what you see? Visit the ' +\n",
              "            '<a target=\"_blank\" href=https://colab.research.google.com/notebooks/data_table.ipynb>data table notebook</a>'\n",
              "            + ' to learn more about interactive tables.';\n",
              "          element.innerHTML = '';\n",
              "          dataTable['output_type'] = 'display_data';\n",
              "          await google.colab.output.renderOutput(dataTable, element);\n",
              "          const docLink = document.createElement('div');\n",
              "          docLink.innerHTML = docLinkHtml;\n",
              "          element.appendChild(docLink);\n",
              "        }\n",
              "      </script>\n",
              "    </div>\n",
              "  </div>\n",
              "  "
            ]
          },
          "metadata": {},
          "execution_count": 7
        }
      ]
    },
    {
      "cell_type": "markdown",
      "id": "f2c602bd",
      "metadata": {
        "id": "f2c602bd"
      },
      "source": [
        "### train과 test, columns 차이가 있다 drop 할건지, 0으로 체울건지 아니면 다른 방안으로 null값을 처리할지 고민하기"
      ]
    },
    {
      "cell_type": "code",
      "source": [
        "train.info()"
      ],
      "metadata": {
        "colab": {
          "base_uri": "https://localhost:8080/"
        },
        "id": "ppD2b2CL5aV0",
        "outputId": "09a49c96-9b72-414c-8f54-25680aecf362"
      },
      "id": "ppD2b2CL5aV0",
      "execution_count": 8,
      "outputs": [
        {
          "output_type": "stream",
          "name": "stdout",
          "text": [
            "<class 'pandas.core.frame.DataFrame'>\n",
            "RangeIndex: 14095 entries, 0 to 14094\n",
            "Data columns (total 54 columns):\n",
            " #   Column               Non-Null Count  Dtype  \n",
            "---  ------               --------------  -----  \n",
            " 0   ID                   14095 non-null  object \n",
            " 1   COMPONENT_ARBITRARY  14095 non-null  object \n",
            " 2   ANONYMOUS_1          14095 non-null  int64  \n",
            " 3   YEAR                 14095 non-null  int64  \n",
            " 4   SAMPLE_TRANSFER_DAY  14095 non-null  int64  \n",
            " 5   ANONYMOUS_2          14095 non-null  int64  \n",
            " 6   AG                   14095 non-null  int64  \n",
            " 7   AL                   14095 non-null  int64  \n",
            " 8   B                    14095 non-null  int64  \n",
            " 9   BA                   14095 non-null  int64  \n",
            " 10  BE                   14095 non-null  int64  \n",
            " 11  CA                   14095 non-null  int64  \n",
            " 12  CD                   12701 non-null  float64\n",
            " 13  CO                   14095 non-null  int64  \n",
            " 14  CR                   14095 non-null  int64  \n",
            " 15  CU                   14095 non-null  int64  \n",
            " 16  FH2O                 3890 non-null   float64\n",
            " 17  FNOX                 3890 non-null   float64\n",
            " 18  FOPTIMETHGLY         3890 non-null   float64\n",
            " 19  FOXID                3890 non-null   float64\n",
            " 20  FSO4                 3890 non-null   float64\n",
            " 21  FTBN                 3890 non-null   float64\n",
            " 22  FE                   14095 non-null  int64  \n",
            " 23  FUEL                 3890 non-null   float64\n",
            " 24  H2O                  14095 non-null  float64\n",
            " 25  K                    11796 non-null  float64\n",
            " 26  LI                   14095 non-null  int64  \n",
            " 27  MG                   14095 non-null  int64  \n",
            " 28  MN                   14095 non-null  int64  \n",
            " 29  MO                   14095 non-null  int64  \n",
            " 30  NA                   14095 non-null  int64  \n",
            " 31  NI                   14095 non-null  int64  \n",
            " 32  P                    14095 non-null  int64  \n",
            " 33  PB                   14095 non-null  int64  \n",
            " 34  PQINDEX              14095 non-null  int64  \n",
            " 35  S                    14095 non-null  int64  \n",
            " 36  SB                   14095 non-null  int64  \n",
            " 37  SI                   14095 non-null  int64  \n",
            " 38  SN                   14095 non-null  int64  \n",
            " 39  SOOTPERCENTAGE       3890 non-null   float64\n",
            " 40  TI                   14095 non-null  int64  \n",
            " 41  U100                 2316 non-null   float64\n",
            " 42  U75                  2316 non-null   float64\n",
            " 43  U50                  2316 non-null   float64\n",
            " 44  U25                  2316 non-null   float64\n",
            " 45  U20                  2316 non-null   float64\n",
            " 46  U14                  2118 non-null   float64\n",
            " 47  U6                   2118 non-null   float64\n",
            " 48  U4                   2118 non-null   float64\n",
            " 49  V                    14095 non-null  int64  \n",
            " 50  V100                 3724 non-null   float64\n",
            " 51  V40                  14095 non-null  float64\n",
            " 52  ZN                   14095 non-null  int64  \n",
            " 53  Y_LABEL              14095 non-null  int64  \n",
            "dtypes: float64(21), int64(31), object(2)\n",
            "memory usage: 5.8+ MB\n"
          ]
        }
      ]
    },
    {
      "cell_type": "code",
      "source": [
        "train.isnull().sum()"
      ],
      "metadata": {
        "colab": {
          "base_uri": "https://localhost:8080/"
        },
        "id": "9cQF66qY5fB_",
        "outputId": "8641c587-10d5-4770-d631-406e5b95187b"
      },
      "id": "9cQF66qY5fB_",
      "execution_count": 9,
      "outputs": [
        {
          "output_type": "execute_result",
          "data": {
            "text/plain": [
              "ID                         0\n",
              "COMPONENT_ARBITRARY        0\n",
              "ANONYMOUS_1                0\n",
              "YEAR                       0\n",
              "SAMPLE_TRANSFER_DAY        0\n",
              "ANONYMOUS_2                0\n",
              "AG                         0\n",
              "AL                         0\n",
              "B                          0\n",
              "BA                         0\n",
              "BE                         0\n",
              "CA                         0\n",
              "CD                      1394\n",
              "CO                         0\n",
              "CR                         0\n",
              "CU                         0\n",
              "FH2O                   10205\n",
              "FNOX                   10205\n",
              "FOPTIMETHGLY           10205\n",
              "FOXID                  10205\n",
              "FSO4                   10205\n",
              "FTBN                   10205\n",
              "FE                         0\n",
              "FUEL                   10205\n",
              "H2O                        0\n",
              "K                       2299\n",
              "LI                         0\n",
              "MG                         0\n",
              "MN                         0\n",
              "MO                         0\n",
              "NA                         0\n",
              "NI                         0\n",
              "P                          0\n",
              "PB                         0\n",
              "PQINDEX                    0\n",
              "S                          0\n",
              "SB                         0\n",
              "SI                         0\n",
              "SN                         0\n",
              "SOOTPERCENTAGE         10205\n",
              "TI                         0\n",
              "U100                   11779\n",
              "U75                    11779\n",
              "U50                    11779\n",
              "U25                    11779\n",
              "U20                    11779\n",
              "U14                    11977\n",
              "U6                     11977\n",
              "U4                     11977\n",
              "V                          0\n",
              "V100                   10371\n",
              "V40                        0\n",
              "ZN                         0\n",
              "Y_LABEL                    0\n",
              "dtype: int64"
            ]
          },
          "metadata": {},
          "execution_count": 9
        }
      ]
    },
    {
      "cell_type": "markdown",
      "source": [
        "### F로 시작하는 컬럼들과 U로 시작하는 컬럼들의 결측치가 패턴을 보이는것같다"
      ],
      "metadata": {
        "id": "Th8PvJ7P5jAC"
      },
      "id": "Th8PvJ7P5jAC"
    },
    {
      "cell_type": "code",
      "source": [
        "#불량이 10배정도 차이난다\n",
        "display(train[\"Y_LABEL\"].value_counts())\n",
        "sns.countplot(data=train, x=\"Y_LABEL\")"
      ],
      "metadata": {
        "colab": {
          "base_uri": "https://localhost:8080/",
          "height": 353
        },
        "id": "v2wWyljk5tfB",
        "outputId": "0f11d0b8-c4af-4e36-c83c-e68e8a61b7ca"
      },
      "id": "v2wWyljk5tfB",
      "execution_count": 10,
      "outputs": [
        {
          "output_type": "display_data",
          "data": {
            "text/plain": [
              "0    12892\n",
              "1     1203\n",
              "Name: Y_LABEL, dtype: int64"
            ]
          },
          "metadata": {}
        },
        {
          "output_type": "execute_result",
          "data": {
            "text/plain": [
              "<matplotlib.axes._subplots.AxesSubplot at 0x7f006ac690d0>"
            ]
          },
          "metadata": {},
          "execution_count": 10
        },
        {
          "output_type": "display_data",
          "data": {
            "text/plain": [
              "<Figure size 432x288 with 1 Axes>"
            ],
            "image/png": "[encoded data removed]"
          },
          "metadata": {
            "needs_background": "light"
          }
        }
      ]
    },
    {
      "cell_type": "code",
      "source": [
        "#아웃라이어가 이상하다....\n",
        "plt.figure(figsize = (8,6))\n",
        "# sns.histplot(data=train, x=\"ANONYMOUS_1\", bins=50)\n",
        "sns.boxplot(data=train, y=\"ANONYMOUS_1\")"
      ],
      "metadata": {
        "colab": {
          "base_uri": "https://localhost:8080/",
          "height": 379
        },
        "id": "o6dDAxiu6nXo",
        "outputId": "113ac7d7-7e77-444c-bbe3-09c3784be5d8"
      },
      "id": "o6dDAxiu6nXo",
      "execution_count": 11,
      "outputs": [
        {
          "output_type": "execute_result",
          "data": {
            "text/plain": [
              "<matplotlib.axes._subplots.AxesSubplot at 0x7f006ab9ed90>"
            ]
          },
          "metadata": {},
          "execution_count": 11
        },
        {
          "output_type": "display_data",
          "data": {
            "text/plain": [
              "<Figure size 576x432 with 1 Axes>"
            ],
            "image/png": "[encoded data removed]"
          },
          "metadata": {
            "needs_background": "light"
          }
        }
      ]
    },
    {
      "cell_type": "code",
      "source": [
        "#핵심 컬럼은 \"COMPONENT_ARBITRARY\" 이거인것같다 느낌상?\n",
        "plt.figure(figsize = (8,6))\n",
        "sns.barplot(data=train, x=\"COMPONENT_ARBITRARY\", y=\"CD\")"
      ],
      "metadata": {
        "colab": {
          "base_uri": "https://localhost:8080/",
          "height": 407
        },
        "id": "6CZaqB896vHp",
        "outputId": "f4629599-d194-4832-8cf6-bb4527d4a325"
      },
      "id": "6CZaqB896vHp",
      "execution_count": 12,
      "outputs": [
        {
          "output_type": "execute_result",
          "data": {
            "text/plain": [
              "<matplotlib.axes._subplots.AxesSubplot at 0x7f006a6de550>"
            ]
          },
          "metadata": {},
          "execution_count": 12
        },
        {
          "output_type": "display_data",
          "data": {
            "text/plain": [
              "<Figure size 576x432 with 1 Axes>"
            ],
            "image/png": "[encoded data removed]"
          },
          "metadata": {
            "needs_background": "light"
          }
        }
      ]
    },
    {
      "cell_type": "markdown",
      "id": "9dbb8802",
      "metadata": {
        "id": "9dbb8802"
      },
      "source": [
        "### 3. 전처리"
      ]
    },
    {
      "cell_type": "markdown",
      "id": "b79a6f0a",
      "metadata": {
        "id": "b79a6f0a"
      },
      "source": [
        "#### 결측치 처리"
      ]
    },
    {
      "cell_type": "code",
      "execution_count": null,
      "id": "bbafdcd0",
      "metadata": {
        "id": "bbafdcd0"
      },
      "outputs": [],
      "source": [
        "# 결측치가 있는 column\n"
      ]
    },
    {
      "cell_type": "code",
      "execution_count": null,
      "id": "c4d33e12",
      "metadata": {
        "scrolled": true,
        "id": "c4d33e12"
      },
      "outputs": [],
      "source": [
        "# 중복정보가 있는 column 제거하기 위해 상관계수를 확인해봅니다.\n",
        "correlated_features = "
      ]
    },
    {
      "cell_type": "markdown",
      "id": "0b757dc0",
      "metadata": {
        "id": "0b757dc0"
      },
      "source": [
        "#### 다중공선성 처리"
      ]
    },
    {
      "cell_type": "code",
      "execution_count": null,
      "id": "702d47e9",
      "metadata": {
        "id": "702d47e9"
      },
      "outputs": [],
      "source": [
        "# 상관계수가 threshold(e.g. 0.8)를 넘기는 feature들을 제거합니다.\n",
        "threshold = "
      ]
    },
    {
      "cell_type": "markdown",
      "source": [
        "#### Encoding Categorical Features"
      ],
      "metadata": {
        "id": "JdO_MINum6pR"
      },
      "id": "JdO_MINum6pR"
    },
    {
      "cell_type": "code",
      "source": [
        "# dtype이 object인 변수들 처리.\n"
      ],
      "metadata": {
        "id": "tNT9eZB0nAmq"
      },
      "id": "tNT9eZB0nAmq",
      "execution_count": null,
      "outputs": []
    },
    {
      "cell_type": "markdown",
      "id": "606493f0",
      "metadata": {
        "id": "606493f0"
      },
      "source": [
        "#### feature extraction\n",
        "\n",
        "- 차원의 저주를 해결하거나, 데이터의 feature 조합을 이용하는 새로운 feature를 생성할 때, PCA를 사용합니다.\n",
        "\n",
        "- 분석에 사용할 feature를 선택하는 과정도 포함합니다."
      ]
    },
    {
      "cell_type": "code",
      "execution_count": null,
      "id": "4a137c94",
      "metadata": {
        "id": "4a137c94"
      },
      "outputs": [],
      "source": [
        "# PCA 적용\n",
        "from sklearn.decomposition import PCA\n",
        "\n",
        "if feature_reducing:\n",
        "    pca = PCA(n_components=0.9) # PCA(n_components=6)\n",
        "    pca_data = pca.fit_transform(X)"
      ]
    },
    {
      "cell_type": "markdown",
      "id": "f497a2d8",
      "metadata": {
        "id": "f497a2d8"
      },
      "source": [
        "### 4. 학습 데이터 분할"
      ]
    },
    {
      "cell_type": "code",
      "execution_count": null,
      "id": "47306aaf",
      "metadata": {
        "id": "47306aaf"
      },
      "outputs": [],
      "source": [
        "# 첫번째 테스트용으로 사용하고, 실제 학습시에는 K-Fold CV를 사용합니다.\n",
        "# train : test = 8 : 2\n",
        "from sklearn.model_selection import train_test_split\n",
        "\n",
        "X = \n",
        "y =\n",
        "\n",
        "X_train, X_test, y_train, y_test = train_test_split(X, y)"
      ]
    },
    {
      "cell_type": "code",
      "execution_count": null,
      "id": "67efd2ee",
      "metadata": {
        "id": "67efd2ee"
      },
      "outputs": [],
      "source": [
        "print(X_train.shape, y_train.shape, X_test.shape, y_test.shape)"
      ]
    },
    {
      "cell_type": "markdown",
      "id": "58056e51",
      "metadata": {
        "id": "58056e51"
      },
      "source": [
        "### 5. 학습 및 평가"
      ]
    },
    {
      "cell_type": "code",
      "execution_count": null,
      "id": "39fd2515",
      "metadata": {
        "id": "39fd2515"
      },
      "outputs": [],
      "source": [
        "# 간단하게 LightGBM 테스트\n",
        "# 적당한 hyper-parameter 조합을 두었습니다. (항상 best는 아닙니다. 예시입니다.)\n",
        "\n",
        "param_grid = {\n",
        "    \"max_bin\" : 20,\n",
        "    \"learning_rate\" : 0.0025,\n",
        "    \"objective\" : \"regression\",\n",
        "    \"boosting_type\" : \"gbdt\",\n",
        "    \"metric\" : \"mae\",\n",
        "    \"sub_feature\" : 0.345,\n",
        "    \"bagging_fraction\" : 0.85,\n",
        "    \"bagging_freq\" : 40,\n",
        "    \"num_leaves\" : 512,\n",
        "    \"min_data\" : 500,\n",
        "    \"min_hessian\" : 0.05,\n",
        "    \"verbose\" : 2,\n",
        "    \"feature_fraction_seed\" : 2,\n",
        "    \"bagging_seed\" : 3\n",
        "}\n",
        "\n",
        "model = LGBMRegressor(**param_grid)"
      ]
    },
    {
      "cell_type": "code",
      "execution_count": null,
      "id": "ddffa474",
      "metadata": {
        "scrolled": true,
        "id": "ddffa474"
      },
      "outputs": [],
      "source": [
        "print(\"\\nFitting LightGBM...\")\n",
        "model.fit(X_train, y_train)"
      ]
    },
    {
      "cell_type": "code",
      "execution_count": null,
      "id": "6c8b0259",
      "metadata": {
        "id": "6c8b0259"
      },
      "outputs": [],
      "source": [
        "# metric은 그때마다 맞게 바꿔줘야 합니다.\n",
        "evaluation_metric = "
      ]
    },
    {
      "cell_type": "code",
      "execution_count": null,
      "id": "a6b39be5",
      "metadata": {
        "id": "a6b39be5"
      },
      "outputs": [],
      "source": [
        "print(\"Prediction\")\n",
        "pred_train = model.predict(x_train)\n",
        "pred_test = model.predict(x_test)\n",
        "\n",
        "\n",
        "train_score = evaluation_metric(y_train, pred_train)\n",
        "test_score = evaluation_metric(y_test, pred_test)\n",
        "\n",
        "print(\"Train Score : %.4f\" % train_score)\n",
        "print(\"Test Score : %.4f\" % test_score)"
      ]
    },
    {
      "cell_type": "markdown",
      "id": "bc755b17",
      "metadata": {
        "id": "bc755b17"
      },
      "source": [
        "### 6. Hyper-parameter Tuning"
      ]
    },
    {
      "cell_type": "markdown",
      "id": "60070d0e",
      "metadata": {
        "id": "60070d0e"
      },
      "source": [
        "> GridSearchCV"
      ]
    },
    {
      "cell_type": "markdown",
      "id": "2bf886a9",
      "metadata": {
        "id": "2bf886a9"
      },
      "source": [
        "** LightGBM의 hyperparameter **\n",
        "\n",
        "[Official Documentation] https://lightgbm.readthedocs.io/en/latest/Parameters-Tuning.html \n",
        "\n",
        "[Blog 1] https://smecsm.tistory.com/133\n",
        "\n",
        "[Blog 2] https://towardsdatascience.com/kagglers-guide-to-lightgbm-hyperparameter-tuning-with-optuna-in-2021-ed048d9838b5\n",
        "\n",
        "[Blog 3] https://nurilee.com/2020/04/03/lightgbm-definition-parameter-tuning/"
      ]
    },
    {
      "cell_type": "code",
      "execution_count": null,
      "id": "815dcbef",
      "metadata": {
        "scrolled": true,
        "id": "815dcbef"
      },
      "outputs": [],
      "source": [
        "# GridSearchCV를 이용하여 가장 좋은 성능을 가지는 모델을 찾아봅시다. (이것은 첫번째엔 선택입니다.)\n",
        "# Lightgbm은 hyper-parameter의 영향을 많이 받기 때문에, 저는 보통 맨처음에 한번 정도는 가볍게 GCV를 해봅니다.\n",
        "# 성능 향상이 별로 없다면, lightgbm으로 돌린 대략적인 성능이 이 정도라고 생각하면 됩니다.\n",
        "# 만약 성능 향상이 크다면, 지금 데이터는 hyper-parameter tuning을 빡빡하게 하면 성능 향상이 많이 이끌어 낼 수 있습니다.\n",
        "\n",
        "from sklearn.model_selection import GridSearchCV\n",
        "\n",
        "param_grid = {\n",
        "    \"max_depth\" : [8, 16, None],\n",
        "    \"n_estimators\" : [100, 300, 500],\n",
        "    \"max_bin\" : [20],\n",
        "    \"learning_rate\" : [0.001, 0.0025, 0.003],\n",
        "    \"objective\" : [\"regression\"],\n",
        "    \"boosting_type\" : [\"gbdt\"],\n",
        "    \"metric\" : [\"mae\"],\n",
        "    \"sub_feature\" : [0.345],\n",
        "    \"bagging_fraction\" : [0.7, 0.75, 0.85],\n",
        "    \"bagging_freq\" : [40],\n",
        "    \"num_leaves\" : [256, 512],\n",
        "    \"min_data\" : [500],\n",
        "    \"verbose\" : [-1], # 필수\n",
        "    \"min_hessian\" : [0.05],\n",
        "    \"feature_fraction_seed\" : [2],\n",
        "    \"bagging_seed\" : [3]\n",
        "}\n",
        "\n",
        "\n",
        "gcv = GridSearchCV(estimator=model, param_grid=param_grid, cv=5,\n",
        "                  n_jobs=-1, verbose=1)\n",
        "\n",
        "gcv.fit(X_train, y_train)\n",
        "print(\"Best Estimator : \", gcv.best_estimator_)"
      ]
    },
    {
      "cell_type": "code",
      "execution_count": null,
      "id": "9ec6ac14",
      "metadata": {
        "id": "9ec6ac14"
      },
      "outputs": [],
      "source": [
        "print(\"Prediction with Best Estimator\")\n",
        "gcv_pred_train = gcv.predict(X_train)\n",
        "gcv_pred_test = gcv.predict(x_test)\n",
        "\n",
        "gcv_train_score = evaluation_metric(y_train, gcv_pred_train)\n",
        "gcv_test_score = evaluation_metric(y_test, gcv_pred_test)\n",
        "\n",
        "print(\"Train MAE Score : %.4f\" % gcv_train_score)\n",
        "print(\"Test MAE Score : %.4f\" % gcv_test_score)"
      ]
    },
    {
      "cell_type": "code",
      "execution_count": null,
      "id": "3b852da7",
      "metadata": {
        "id": "3b852da7"
      },
      "outputs": [],
      "source": [
        "print(\"Performance Gain\") # 이걸로 성능 향상 확인.\n",
        "print(\"in train : \", (train_score - gcv_train_score))\n",
        "print(\"in test : \", (test_score - gcv_test_score))"
      ]
    },
    {
      "cell_type": "markdown",
      "id": "97e5302d",
      "metadata": {
        "id": "97e5302d"
      },
      "source": [
        "> optuna를 사용해봅시다 !"
      ]
    },
    {
      "cell_type": "code",
      "execution_count": null,
      "id": "34ce4986",
      "metadata": {
        "id": "34ce4986"
      },
      "outputs": [],
      "source": [
        "def optimizer(trial, X, y, K):\n",
        "    # 조절할 hyper-parameter 조합을 적어줍니다.\n",
        "    n_estimators = \n",
        "    max_depth = \n",
        "    max_features = \n",
        "    \n",
        "    \n",
        "    # 원하는 모델을 지정합니다, optuna는 시간이 오래걸리기 때문에 저는 보통 RF로 일단 테스트를 해본 뒤에 LGBM을 사용합니다.\n",
        "    model = RandomForestRegressor(n_estimators=n_estimators,\n",
        "                                 max_depth=max_depth,\n",
        "                                 max_features=max_features)\n",
        "    \n",
        "    \n",
        "    # K-Fold Cross validation을 구현합니다.\n",
        "    folds = KFold(n_splits=K)\n",
        "    losses = []\n",
        "    \n",
        "    for train_idx, val_idx in folds.split(X, y):\n",
        "        X_train = X.iloc[train_idx, :]\n",
        "        y_train = y.iloc[train_idx]\n",
        "        \n",
        "        X_val = X.iloc[val_idx, :]\n",
        "        y_val = y.iloc[val_idx]\n",
        "        \n",
        "        model.fit(X_train, y_train)\n",
        "        preds = model.predict(X_val)\n",
        "        loss = mean_absolute_error(y_val, preds)\n",
        "        losses.append(loss)\n",
        "    \n",
        "    \n",
        "    # K-Fold의 평균 loss값을 돌려줍니다.\n",
        "    return np.mean(losses)"
      ]
    },
    {
      "cell_type": "code",
      "execution_count": null,
      "id": "7150b210",
      "metadata": {
        "scrolled": false,
        "id": "7150b210"
      },
      "outputs": [],
      "source": [
        "K = # Kfold 수\n",
        "opt_func = partial(optimizer, X=X_train, y=y_train, K)\n",
        "\n",
        "study = optuna.create_study(direction=\"minimize\") # 최소/최대 어느 방향의 최적값을 구할 건지.\n",
        "study.optimize(opt_func, n_trials=5)"
      ]
    },
    {
      "cell_type": "code",
      "execution_count": null,
      "id": "72d0a118",
      "metadata": {
        "id": "72d0a118"
      },
      "outputs": [],
      "source": [
        "# optuna가 시도했던 모든 실험 관련 데이터\n",
        "study.trials_dataframe()"
      ]
    },
    {
      "cell_type": "code",
      "execution_count": null,
      "id": "a805da05",
      "metadata": {
        "id": "a805da05"
      },
      "outputs": [],
      "source": [
        "print(\"Best Score: %.4f\" % study.best_value) # best score 출력\n",
        "print(\"Best params: \", study.best_trial.params) # best score일 때의 하이퍼파라미터들"
      ]
    },
    {
      "cell_type": "code",
      "execution_count": null,
      "id": "051ae1eb",
      "metadata": {
        "id": "051ae1eb"
      },
      "outputs": [],
      "source": [
        "# 실험 기록 시각화\n",
        "optuna.visualization.plot_optimization_history(study)"
      ]
    },
    {
      "cell_type": "code",
      "execution_count": null,
      "id": "efbf8f65",
      "metadata": {
        "scrolled": false,
        "id": "efbf8f65"
      },
      "outputs": [],
      "source": [
        "# hyper-parameter들의 중요도\n",
        "optuna.visualization.plot_param_importances(study)"
      ]
    },
    {
      "cell_type": "markdown",
      "id": "24b360ec",
      "metadata": {
        "id": "24b360ec"
      },
      "source": [
        "### 7. 테스트 및 제출 파일 생성"
      ]
    },
    {
      "cell_type": "code",
      "execution_count": null,
      "id": "a0daf54e",
      "metadata": {
        "id": "a0daf54e"
      },
      "outputs": [],
      "source": [
        "model = RandomForestRegressor(n_estimators=study.best_trial.params[\"n_estimators\"],\n",
        "                                 max_depth=study.best_trial.params[\"max_depth\"],\n",
        "                                 max_features=study.best_trial.params[\"max_features\"])\n",
        "\n",
        "model.fit(X_train, y_train)\n",
        "preds = model.predict(X_test)\n",
        "preds"
      ]
    },
    {
      "cell_type": "code",
      "execution_count": null,
      "id": "dfa0db70",
      "metadata": {
        "id": "dfa0db70"
      },
      "outputs": [],
      "source": [
        "X_test # 원본 데이터랑 id가 맞는지 확인 해보기!"
      ]
    },
    {
      "cell_type": "code",
      "execution_count": null,
      "id": "8ff2070c",
      "metadata": {
        "id": "8ff2070c"
      },
      "outputs": [],
      "source": [
        "submission = pd.DataFrame() # submission을 생성합니다.\n",
        "submission"
      ]
    },
    {
      "cell_type": "code",
      "execution_count": null,
      "id": "55a2c13f",
      "metadata": {
        "id": "55a2c13f"
      },
      "outputs": [],
      "source": [
        "submission.reset_index(drop=True).to_csv(\"submission.csv\", index=False)"
      ]
    }
  ],
  "metadata": {
    "kernelspec": {
      "display_name": "Python 3 (ipykernel)",
      "language": "python",
      "name": "python3"
    },
    "language_info": {
      "codemirror_mode": {
        "name": "ipython",
        "version": 3
      },
      "file_extension": ".py",
      "mimetype": "text/x-python",
      "name": "python",
      "nbconvert_exporter": "python",
      "pygments_lexer": "ipython3",
      "version": "3.8.12"
    },
    "colab": {
      "provenance": [],
      "collapsed_sections": [],
      "include_colab_link": true
    }
  },
  "nbformat": 4,
  "nbformat_minor": 5
}